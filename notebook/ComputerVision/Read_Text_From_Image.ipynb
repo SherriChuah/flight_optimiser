{
 "cells": [
  {
   "cell_type": "markdown",
   "metadata": {},
   "source": [
    "# Testing EasyOCR To Extract Text From Image"
   ]
  },
  {
   "cell_type": "code",
   "execution_count": 69,
   "metadata": {},
   "outputs": [],
   "source": [
    "import easyocr\n",
    "import cv2\n",
    "import numpy as np\n",
    "import pandas as pd\n",
    "import matplotlib.pyplot as plt\n",
    "\n",
    "from typing import Tuple"
   ]
  },
  {
   "cell_type": "code",
   "execution_count": 4,
   "metadata": {},
   "outputs": [],
   "source": [
    "image_path = './exampleFlights.png'"
   ]
  },
  {
   "cell_type": "markdown",
   "metadata": {},
   "source": [
    "## Extract Text from Image"
   ]
  },
  {
   "cell_type": "code",
   "execution_count": 70,
   "metadata": {},
   "outputs": [],
   "source": [
    "def extract_text_and_positions(image_path: str) -> Tuple[list, list]:\n",
    "    reader = easyocr.Reader(['en'])\n",
    "    image = cv2.imread(image_path)\n",
    "    results = reader.readtext(image, paragraph=True, min_size=0)\n",
    "\n",
    "    detect_boxes = reader.detect(image, min_size=0)\n",
    "\n",
    "    return results, detect_boxes\n"
   ]
  },
  {
   "cell_type": "code",
   "execution_count": null,
   "metadata": {},
   "outputs": [],
   "source": [
    "ocr_results, detect_boxes = extract_text_and_positions(image_path)"
   ]
  },
  {
   "cell_type": "code",
   "execution_count": null,
   "metadata": {},
   "outputs": [],
   "source": [
    "len(detect_boxes[0][0])"
   ]
  },
  {
   "cell_type": "code",
   "execution_count": null,
   "metadata": {},
   "outputs": [],
   "source": [
    "len(ocr_results)"
   ]
  },
  {
   "cell_type": "code",
   "execution_count": null,
   "metadata": {},
   "outputs": [],
   "source": [
    "ocr_results[:2]"
   ]
  },
  {
   "cell_type": "markdown",
   "metadata": {},
   "source": [
    "## Visualise detected bounding box from image"
   ]
  },
  {
   "cell_type": "code",
   "execution_count": 77,
   "metadata": {},
   "outputs": [],
   "source": [
    "def visualise_bounding_box_in_image(image_path: str, results: list):\n",
    "\n",
    "    image = cv2.imread(image_path)\n",
    "    # for (bbox, text, prob) in results:\n",
    "    for (bbox, text) in results:\n",
    "        # Extract the bounding box coordinates\n",
    "        (top_left, top_right, bottom_right, bottom_left) = bbox\n",
    "        top_left = tuple([int(coord) for coord in top_left])\n",
    "        bottom_right = tuple([int(coord) for coord in bottom_right])\n",
    "\n",
    "        # Draw the rectangle around the detected text\n",
    "        cv2.rectangle(image, top_left, bottom_right, (0, 255, 0), 2)\n",
    "\n",
    "        # Optionally, display the detected text on the image\n",
    "        cv2.putText(image, text, (top_left[0], top_left[1] - 5), \n",
    "                    cv2.FONT_HERSHEY_SIMPLEX, 0.3, (0, 255, 0), 1)\n",
    "\n",
    "    # Convert image from BGR (OpenCV format) to RGB (matplotlib format)\n",
    "    image_rgb = cv2.cvtColor(image, cv2.COLOR_BGR2RGB)\n",
    "\n",
    "    # Display the image with bounding boxes\n",
    "    plt.figure(figsize=(10, 10))\n",
    "    plt.imshow(image_rgb)\n",
    "    plt.axis('off')\n",
    "    plt.show()"
   ]
  },
  {
   "cell_type": "code",
   "execution_count": null,
   "metadata": {},
   "outputs": [],
   "source": [
    "visualise_bounding_box_in_image(image_path, ocr_results)"
   ]
  },
  {
   "cell_type": "code",
   "execution_count": null,
   "metadata": {},
   "outputs": [],
   "source": [
    "ocr_results"
   ]
  },
  {
   "cell_type": "code",
   "execution_count": 84,
   "metadata": {},
   "outputs": [],
   "source": [
    "def analyze_and_structure_data(ocr_results):\n",
    "    # Sort results by vertical position (y-coordinate)\n",
    "    sorted_results = sorted(ocr_results, key=lambda x: x[0][0][1])\n",
    "\n",
    "    # Group text by rows based on y-coordinate proximity\n",
    "    rows = []\n",
    "    current_row = []\n",
    "    last_y = None\n",
    "    y_threshold = 10  # Adjust this value based on your image\n",
    "\n",
    "    for result in sorted_results:\n",
    "        # box, text, conf = result\n",
    "        box, text = result\n",
    "        current_y = box[0][1]\n",
    "\n",
    "        if last_y is None or abs(current_y - last_y) <= y_threshold:\n",
    "            # current_row.append((box, text, conf))\n",
    "            current_row.append((box, text))\n",
    "        else:\n",
    "            rows.append(current_row)\n",
    "            # current_row = [(box, text, conf)]\n",
    "            current_row = [(box, text)]\n",
    "        last_y = current_y\n",
    "\n",
    "    if current_row:\n",
    "        rows.append(current_row)\n",
    "\n",
    "    # Sort each row by horizontal position (x-coordinate)\n",
    "    for row in rows:\n",
    "        row.sort(key=lambda x: x[0][0][0])\n",
    "\n",
    "    return rows"
   ]
  },
  {
   "cell_type": "code",
   "execution_count": 86,
   "metadata": {},
   "outputs": [],
   "source": [
    "rows = analyze_and_structure_data(ocr_results)"
   ]
  },
  {
   "cell_type": "code",
   "execution_count": 90,
   "metadata": {},
   "outputs": [],
   "source": [
    "def create_dataframe(structured_data):\n",
    "    # Determine the maximum number of columns\n",
    "    max_columns = max(len(row) for row in structured_data)\n",
    "\n",
    "    # Create a list of dictionaries for the DataFrame\n",
    "    data = []\n",
    "    for row in structured_data:\n",
    "        row_data = {}\n",
    "        # for i, (_, text, _) in enumerate(row):\n",
    "        for i, (_, text) in enumerate(row):\n",
    "            row_data[f'Column_{i+1}'] = text\n",
    "        data.append(row_data)\n",
    "\n",
    "    # Create DataFrame\n",
    "    df = pd.DataFrame(data)\n",
    "    return df"
   ]
  },
  {
   "cell_type": "code",
   "execution_count": null,
   "metadata": {},
   "outputs": [],
   "source": [
    "create_dataframe(rows)"
   ]
  },
  {
   "cell_type": "code",
   "execution_count": null,
   "metadata": {},
   "outputs": [],
   "source": []
  }
 ],
 "metadata": {
  "kernelspec": {
   "display_name": "Python 3",
   "language": "python",
   "name": "python3"
  },
  "language_info": {
   "codemirror_mode": {
    "name": "ipython",
    "version": 3
   },
   "file_extension": ".py",
   "mimetype": "text/x-python",
   "name": "python",
   "nbconvert_exporter": "python",
   "pygments_lexer": "ipython3",
   "version": "3.10.11"
  }
 },
 "nbformat": 4,
 "nbformat_minor": 2
}
