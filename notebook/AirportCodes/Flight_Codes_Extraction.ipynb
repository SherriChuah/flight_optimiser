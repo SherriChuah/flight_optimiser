{
 "cells": [
  {
   "cell_type": "markdown",
   "metadata": {},
   "source": [
    "### Get all flight codes from OpenFlight website\n",
    "https://openflights.org/data.php#license"
   ]
  },
  {
   "cell_type": "markdown",
   "metadata": {},
   "source": [
    "##### Import"
   ]
  },
  {
   "cell_type": "code",
   "execution_count": null,
   "metadata": {},
   "outputs": [],
   "source": [
    "import pandas as pd\n",
    "import os\n",
    "from dotenv import load_dotenv\n",
    "\n",
    "load_dotenv('./../secrets.env')"
   ]
  },
  {
   "cell_type": "code",
   "execution_count": 2,
   "metadata": {},
   "outputs": [],
   "source": [
    "raw_airport_data_path = \"raw_airports.csv\""
   ]
  },
  {
   "cell_type": "markdown",
   "metadata": {},
   "source": [
    "##### Read file"
   ]
  },
  {
   "cell_type": "code",
   "execution_count": 3,
   "metadata": {},
   "outputs": [],
   "source": [
    "df = pd.read_csv(raw_airport_data_path, header=None)"
   ]
  },
  {
   "cell_type": "markdown",
   "metadata": {},
   "source": [
    "##### Rename Column"
   ]
  },
  {
   "cell_type": "code",
   "execution_count": 4,
   "metadata": {},
   "outputs": [],
   "source": [
    "rename_columns = {\n",
    "    0: 'airport_id', \n",
    "    1: 'name', \n",
    "    2: 'city', \n",
    "    3: 'country', \n",
    "    4: 'IATA', \n",
    "    5: 'ICAO', \n",
    "    6: 'latitude', \n",
    "    7: 'longitude', \n",
    "    8: 'altitude', \n",
    "    9: 'timezone', \n",
    "    10: 'dst', \n",
    "    11: 'tz_database',\n",
    "    12: 'type', \n",
    "    13: 'source'}"
   ]
  },
  {
   "cell_type": "code",
   "execution_count": 5,
   "metadata": {},
   "outputs": [],
   "source": [
    "df = df.rename(columns=rename_columns)"
   ]
  },
  {
   "cell_type": "markdown",
   "metadata": {},
   "source": [
    "##### Replace na values to None"
   ]
  },
  {
   "cell_type": "code",
   "execution_count": 6,
   "metadata": {},
   "outputs": [],
   "source": [
    "df_replaced_none = df.replace('\\\\N', None)"
   ]
  },
  {
   "cell_type": "code",
   "execution_count": null,
   "metadata": {},
   "outputs": [],
   "source": [
    "df_replaced_none"
   ]
  },
  {
   "cell_type": "code",
   "execution_count": null,
   "metadata": {},
   "outputs": [],
   "source": [
    "df_replaced_none.info()"
   ]
  },
  {
   "cell_type": "markdown",
   "metadata": {},
   "source": [
    "##### Get relevant columns"
   ]
  },
  {
   "cell_type": "code",
   "execution_count": 9,
   "metadata": {},
   "outputs": [],
   "source": [
    "df_relevant_columns = df_replaced_none[['name', 'city', 'country', 'IATA']]"
   ]
  },
  {
   "cell_type": "markdown",
   "metadata": {},
   "source": [
    "##### Drop empty IATA rows and empty city rows"
   ]
  },
  {
   "cell_type": "code",
   "execution_count": 10,
   "metadata": {},
   "outputs": [],
   "source": [
    "# mask = (df_relevant_columns['IATA'].isna()) | (df_relevant_columns['city'].isna())\n",
    "mask = (df_relevant_columns['IATA'].isna())"
   ]
  },
  {
   "cell_type": "code",
   "execution_count": 11,
   "metadata": {},
   "outputs": [],
   "source": [
    "df_relevant_columns_nona = df_relevant_columns[~mask]"
   ]
  },
  {
   "cell_type": "code",
   "execution_count": null,
   "metadata": {},
   "outputs": [],
   "source": [
    "df_relevant_columns_nona"
   ]
  },
  {
   "cell_type": "code",
   "execution_count": 13,
   "metadata": {},
   "outputs": [],
   "source": [
    "df_relevant_columns_nona = df_relevant_columns_nona.rename(columns={'name': 'airport_name', 'IATA': 'iata'})"
   ]
  },
  {
   "cell_type": "code",
   "execution_count": null,
   "metadata": {},
   "outputs": [],
   "source": [
    "df_relevant_columns_nona.describe()"
   ]
  },
  {
   "cell_type": "code",
   "execution_count": 20,
   "metadata": {},
   "outputs": [],
   "source": [
    "df_relevant_columns_nona['city'] = df_relevant_columns_nona['city'].fillna('')"
   ]
  },
  {
   "cell_type": "markdown",
   "metadata": {},
   "source": [
    "#### Put dataframe to Mysql"
   ]
  },
  {
   "cell_type": "code",
   "execution_count": null,
   "metadata": {},
   "outputs": [],
   "source": [
    "pip install pymysql sqlalchemy"
   ]
  },
  {
   "cell_type": "code",
   "execution_count": 22,
   "metadata": {},
   "outputs": [],
   "source": [
    "sql_query = \"\"\"\n",
    "    SELECT `airport_name`, `city`, `iata` FROM `airportcodes` WHERE `iata` LIKE %s OR `city` LIKE %s OR `airport_name` LIKE %s ORDER BY CASE WHEN `iata` = %s THEN 1 WHEN `iata` LIKE %s THEN 2 WHEN `city` LIKE %s THEN CASE WHEN `city` LIKE %s THEN 3 WHEN `city` LIKE %s THEN 4 ELSE 5 END WHEN `airport_name` LIKE %s THEN CASE WHEN `airport_name` LIKE %s THEN 6 WHEN `airport_name` LIKE %s THEN 7 ELSE 8 END ELSE 9 END LIMIT 5\n",
    "\"\"\"\n",
    "\n",
    "sql_query = \"\"\"\n",
    "                SELECT `airport_name`, `city`, `iata`\n",
    "                FROM `airportcodes`\n",
    "                WHERE `iata` LIKE %s\n",
    "                OR `city` LIKE %s\n",
    "                OR `airport_name` LIKE %s\n",
    "                ORDER BY\n",
    "                    CASE\n",
    "                        -- Exact match for `iata` has the highest priority\n",
    "                        WHEN `iata` = %s THEN 1\n",
    "                        -- Matches where the target word is at the beginning or end of the string\n",
    "                        WHEN `iata` LIKE %s THEN 2\n",
    "                        WHEN `city` LIKE %s THEN\n",
    "                            CASE\n",
    "                                WHEN `city` LIKE %s THEN 3  -- Starts with the target word\n",
    "                                WHEN `city` LIKE %s THEN 4  -- Ends with the target word\n",
    "                                ELSE 5\n",
    "                            END\n",
    "                        WHEN `airport_name` LIKE %s THEN\n",
    "                            CASE\n",
    "                                WHEN `airport_name` LIKE %s THEN 6  -- Starts with the target word\n",
    "                                WHEN `airport_name` LIKE %s THEN 7  -- Ends with the target word\n",
    "                                ELSE 8\n",
    "                            END\n",
    "                        ELSE 9\n",
    "                    END\n",
    "                LIMIT 5\n",
    "            \"\"\""
   ]
  },
  {
   "cell_type": "code",
   "execution_count": null,
   "metadata": {},
   "outputs": [],
   "source": [
    "import pymysql\n",
    "import pandas as pd\n",
    "from sqlalchemy import create_engine\n",
    "\n",
    "\n",
    "db_data = 'mysql+pymysql://' + os.getenv('MYSQL_USERNAME') + ':' + os.getenv('MYSQL_PASSWORD') + '@' + 'localhost' + os.getenv('MYSQL_PORT') + os.getenv('MYSQL_DB')\n",
    "engine = create_engine(db_data)\n",
    "\n",
    "# Connect to the database\n",
    "connection = pymysql.connect(host='localhost',\n",
    "                         user=os.getenv('MYSQL_USERNAME'),\n",
    "                         password=os.getenv('MYSQL_PASSWORD'),\n",
    "                         db=os.getenv('MYSQL_DB'))    \n",
    "\n",
    "# create cursor\n",
    "cursor=connection.cursor()\n",
    "# Execute the to_sql for writing DF into SQL !!IMPORTANT!!!\n",
    "df_relevant_columns_nona.to_sql(os.getenv('MYSQL_DB'), engine, if_exists='replace', index=False)    \n",
    "\n",
    "# Execute query\n",
    "# sql_query = \"SELECT `airport_name`, `city`, `iata` FROM `airportcodes` WHERE `airport_name` LIKE %s OR `city` LIKE %s OR `iata` LIKE %s ORDER BY CASE WHEN `iata` = %s THEN 1 WHEN `city` LIKE %s THEN 2 WHEN `airport_name` LIKE %s THEN 3 ELSE 4 END LIMIT 5\"\n",
    "query = 'man'\n",
    "search_term = f'%{query}%'\n",
    "starts_with = f'{query}%'\n",
    "ends_with = f'%{query}'\n",
    "\n",
    "cursor.execute(sql_query, (\n",
    "                query, search_term, search_term,\n",
    "                query, search_term, search_term,\n",
    "                starts_with, ends_with, search_term,\n",
    "                starts_with, ends_with\n",
    "            ))\n",
    "\n",
    "# Fetch all the records\n",
    "result = cursor.fetchall()\n",
    "for i in result:\n",
    "    print(i)\n",
    "\n",
    "engine.dispose()\n",
    "connection.close()"
   ]
  },
  {
   "cell_type": "code",
   "execution_count": null,
   "metadata": {},
   "outputs": [],
   "source": []
  },
  {
   "cell_type": "markdown",
   "metadata": {},
   "source": [
    "##### Save file to data folder"
   ]
  },
  {
   "cell_type": "code",
   "execution_count": null,
   "metadata": {},
   "outputs": [],
   "source": [
    "airport_code_path = os.path.dirname(os.path.dirname(os.getcwd())) + '\\\\data\\\\'"
   ]
  },
  {
   "cell_type": "code",
   "execution_count": null,
   "metadata": {},
   "outputs": [],
   "source": [
    "airport_code_path"
   ]
  },
  {
   "cell_type": "code",
   "execution_count": null,
   "metadata": {},
   "outputs": [],
   "source": [
    "df_relevant_columns_nona.to_csv(airport_code_path + 'all_airport_code.csv', index=False)"
   ]
  }
 ],
 "metadata": {
  "kernelspec": {
   "display_name": "Python 3",
   "language": "python",
   "name": "python3"
  },
  "language_info": {
   "codemirror_mode": {
    "name": "ipython",
    "version": 3
   },
   "file_extension": ".py",
   "mimetype": "text/x-python",
   "name": "python",
   "nbconvert_exporter": "python",
   "pygments_lexer": "ipython3",
   "version": "3.10.7"
  }
 },
 "nbformat": 4,
 "nbformat_minor": 2
}
